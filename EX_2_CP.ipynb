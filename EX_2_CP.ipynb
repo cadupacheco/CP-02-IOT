{
  "nbformat": 4,
  "nbformat_minor": 0,
  "metadata": {
    "colab": {
      "provenance": []
    },
    "kernelspec": {
      "name": "python3",
      "display_name": "Python 3"
    },
    "language_info": {
      "name": "python"
    }
  },
  "cells": [
    {
      "cell_type": "markdown",
      "source": [
        "# **EXERCÍCIO 1**"
      ],
      "metadata": {
        "id": "d5HeCiLQbWv_"
      }
    },
    {
      "cell_type": "markdown",
      "source": [
        "* Importando bibliotecas"
      ],
      "metadata": {
        "id": "eydP0zUvbYWI"
      }
    },
    {
      "cell_type": "code",
      "execution_count": null,
      "metadata": {
        "id": "NPaWbd3SbMkv"
      },
      "outputs": [],
      "source": [
        "import numpy as np\n",
        "import pandas as pd\n",
        "from sklearn.datasets import fetch_california_housing\n",
        "from sklearn.model_selection import train_test_split\n",
        "from sklearn.preprocessing import StandardScaler\n",
        "from sklearn.metrics import mean_squared_error, mean_absolute_error\n",
        "\n",
        "import tensorflow as tf\n",
        "from tensorflow.keras.models import Sequential\n",
        "from tensorflow.keras.layers import Dense\n",
        "\n",
        "from sklearn.linear_model import LinearRegression\n",
        "from sklearn.ensemble import RandomForestRegressor"
      ]
    },
    {
      "cell_type": "markdown",
      "source": [
        "* Carregando o dataset"
      ],
      "metadata": {
        "id": "A2beXgBubewF"
      }
    },
    {
      "cell_type": "code",
      "source": [
        "housing = fetch_california_housing()\n",
        "X = housing.data\n",
        "y = housing.target\n",
        "\n",
        "# Divisão treino/teste\n",
        "X_train, X_test, y_train, y_test = train_test_split(\n",
        "    X, y, test_size=0.2, random_state=42\n",
        ")\n",
        "\n",
        "# Padronização\n",
        "scaler = StandardScaler()\n",
        "X_train = scaler.fit_transform(X_train)\n",
        "X_test = scaler.transform(X_test"
      ],
      "metadata": {
        "id": "W6PcrdZcbwiu"
      },
      "execution_count": null,
      "outputs": []
    },
    {
      "cell_type": "markdown",
      "source": [
        "* Rede Neural"
      ],
      "metadata": {
        "id": "RGihAQnWbhHI"
      }
    },
    {
      "cell_type": "code",
      "source": [
        "model = Sequential([\n",
        "    Dense(64, activation='relu', input_shape=(X_train.shape[1],)),\n",
        "    Dense(32, activation='relu'),\n",
        "    Dense(16, activation='relu'),\n",
        "    Dense(1, activation='linear')\n",
        "])\n",
        "\n",
        "model.compile(optimizer='adam', loss='mse', metrics=['mae'])\n",
        "\n",
        "# Treinamento\n",
        "history = model.fit(\n",
        "    X_train, y_train,\n",
        "    validation_data=(X_test, y_test),\n",
        "    epochs=50, batch_size=32, verbose=0\n",
        ")\n",
        "\n",
        "# Avaliação\n",
        "y_pred_nn = model.predict(X_test).flatten()\n",
        "rmse_nn = np.sqrt(mean_squared_error(y_test, y_pred_nn))\n",
        "mae_nn = mean_absolute_error(y_test, y_pred_nn)\n",
        "print(f\"Rede Neural -> RMSE: {rmse_nn:.4f}, MAE: {mae_nn:.4f}\")"
      ],
      "metadata": {
        "id": "MdjoyONFb0cv"
      },
      "execution_count": null,
      "outputs": []
    },
    {
      "cell_type": "markdown",
      "source": [
        "* Comparando com scikit-learn"
      ],
      "metadata": {
        "id": "zQNM4k5EbhiH"
      }
    },
    {
      "cell_type": "code",
      "source": [
        "# Modelo Linear\n",
        "linreg = LinearRegression()\n",
        "linreg.fit(X_train, y_train)\n",
        "y_pred_lr = linreg.predict(X_test)\n",
        "rmse_lr = np.sqrt(mean_squared_error(y_test, y_pred_lr))\n",
        "mae_lr = mean_absolute_error(y_test, y_pred_lr)\n",
        "print(f\"Linear Regression -> RMSE: {rmse_lr:.4f}, MAE: {mae_lr:.4f}\")\n",
        "\n",
        "# Modelo RandomForest Regressor\n",
        "rf = RandomForestRegressor(random_state=42, n_estimators=100)\n",
        "rf.fit(X_train, y_train)\n",
        "y_pred_rf = rf.predict(X_test)\n",
        "rmse_rf = np.sqrt(mean_squared_error(y_test, y_pred_rf))\n",
        "mae_rf = mean_absolute_error(y_test, y_pred_rf)\n",
        "print(f\"RandomForest Regressor -> RMSE: {rmse_rf:.4f}, MAE: {mae_rf:.4f}\")\n"
      ],
      "metadata": {
        "id": "2EIwOHpPb03g"
      },
      "execution_count": null,
      "outputs": []
    }
  ]
}