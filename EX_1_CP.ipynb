{
  "nbformat": 4,
  "nbformat_minor": 0,
  "metadata": {
    "colab": {
      "provenance": []
    },
    "kernelspec": {
      "name": "python3",
      "display_name": "Python 3"
    },
    "language_info": {
      "name": "python"
    }
  },
  "cells": [
    {
      "cell_type": "markdown",
      "source": [
        "# **EXERCÍCIO 1**"
      ],
      "metadata": {
        "id": "R1Iz27PpZW4W"
      }
    },
    {
      "cell_type": "markdown",
      "source": [
        "* Importando bibliotecas"
      ],
      "metadata": {
        "id": "3m4pvlCUZ_4R"
      }
    },
    {
      "cell_type": "code",
      "execution_count": null,
      "metadata": {
        "id": "tUSlJWRkZSK2"
      },
      "outputs": [],
      "source": [
        "import numpy as np\n",
        "import pandas as pd\n",
        "from sklearn.datasets import load_wine\n",
        "from sklearn.model_selection import train_test_split\n",
        "from sklearn.preprocessing import StandardScaler, OneHotEncoder\n",
        "from sklearn.metrics import accuracy_score, classification_report\n",
        "\n",
        "import tensorflow as tf\n",
        "from tensorflow.keras.models import Sequential\n",
        "from tensorflow.keras.layers import Dense\n",
        "from tensorflow.keras.utils import to_categorical\n",
        "\n",
        "from sklearn.ensemble import RandomForestClassifier\n",
        "from sklearn.linear_model import LogisticRegression"
      ]
    },
    {
      "cell_type": "markdown",
      "source": [
        "* Carregando o dataset"
      ],
      "metadata": {
        "id": "iVI6vxpkaE13"
      }
    },
    {
      "cell_type": "code",
      "source": [
        "wine = load_wine()\n",
        "X = wine.data\n",
        "y = wine.target\n",
        "\n",
        "y_categorical = to_categorical(y, num_classes=3)\n",
        "\n",
        "# Divisão treino/teste\n",
        "X_train, X_test, y_train, y_test = train_test_split(\n",
        "    X, y_categorical, test_size=0.2, random_state=42, stratify=y\n",
        ")\n",
        "\n",
        "# Padronização\n",
        "scaler = StandardScaler()\n",
        "X_train = scaler.fit_transform(X_train)\n",
        "X_test = scaler.transform(X_test)"
      ],
      "metadata": {
        "id": "7F3zFFuJaIAZ"
      },
      "execution_count": null,
      "outputs": []
    },
    {
      "cell_type": "markdown",
      "source": [
        "* Construindo a rede neural"
      ],
      "metadata": {
        "id": "aEG4N3WaaR-r"
      }
    },
    {
      "cell_type": "code",
      "source": [
        "model = Sequential([\n",
        "    Dense(32, activation='relu', input_shape=(X_train.shape[1],)),\n",
        "    Dense(32, activation='relu'),\n",
        "    Dense(3, activation='softmax')\n",
        "])\n",
        "\n",
        "model.compile(optimizer='adam',\n",
        "              loss='categorical_crossentropy',\n",
        "              metrics=['accuracy'])\n",
        "\n",
        "# Treinamento\n",
        "history = model.fit(\n",
        "    X_train, y_train,\n",
        "    validation_data=(X_test, y_test),\n",
        "    epochs=50, batch_size=16, verbose=0\n",
        ")\n",
        "\n",
        "# Avaliação\n",
        "loss, acc = model.evaluate(X_test, y_test, verbose=0)\n",
        "print(f\"Acurácia da Rede Neural (Keras): {acc:.4f}\")"
      ],
      "metadata": {
        "id": "ixY1KD-jaWTA"
      },
      "execution_count": null,
      "outputs": []
    },
    {
      "cell_type": "markdown",
      "source": [
        "* Comparando com scikit-learn"
      ],
      "metadata": {
        "id": "Flw9bl7uabBQ"
      }
    },
    {
      "cell_type": "code",
      "source": [
        "# Revertendo y_train e y_test para rótulos inteiros\n",
        "y_train_labels = np.argmax(y_train, axis=1)\n",
        "y_test_labels = np.argmax(y_test, axis=1)\n",
        "\n",
        "# Modelo 1: RandomForest\n",
        "rf = RandomForestClassifier(random_state=42)\n",
        "rf.fit(X_train, y_train_labels)\n",
        "y_pred_rf = rf.predict(X_test)\n",
        "acc_rf = accuracy_score(y_test_labels, y_pred_rf)\n",
        "print(f\"Acurácia do RandomForest: {acc_rf:.4f}\")\n",
        "\n",
        "# Modelo 2: Logistic Regression\n",
        "logreg = LogisticRegression(max_iter=500, random_state=42)\n",
        "logreg.fit(X_train, y_train_labels)\n",
        "y_pred_lr = logreg.predict(X_test)\n",
        "acc_lr = accuracy_score(y_test_labels, y_pred_lr)\n",
        "print(f\"Acurácia da Regressão Logística: {acc_lr:.4f}\")"
      ],
      "metadata": {
        "id": "FFvfrsXNaifn"
      },
      "execution_count": null,
      "outputs": []
    },
    {
      "cell_type": "markdown",
      "source": [
        "* Relatório comparativo"
      ],
      "metadata": {
        "id": "KXBDe1Mfagbd"
      }
    },
    {
      "cell_type": "code",
      "source": [
        "print(\"\\n=== Relatório Rede Neural ===\")\n",
        "y_pred_nn = np.argmax(model.predict(X_test), axis=1)\n",
        "print(classification_report(y_test_labels, y_pred_nn))\n",
        "\n",
        "print(\"\\n=== Relatório RandomForest ===\")\n",
        "print(classification_report(y_test_labels, y_pred_rf))\n",
        "\n",
        "print(\"\\n=== Relatório Logistic Regression ===\")\n",
        "print(classification_report(y_test_labels, y_pred_lr))"
      ],
      "metadata": {
        "id": "BjsqtDFHai7z"
      },
      "execution_count": null,
      "outputs": []
    }
  ]
}